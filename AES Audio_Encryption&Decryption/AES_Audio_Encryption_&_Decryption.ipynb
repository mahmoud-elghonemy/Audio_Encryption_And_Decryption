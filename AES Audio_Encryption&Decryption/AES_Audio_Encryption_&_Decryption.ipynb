{
  "nbformat": 4,
  "nbformat_minor": 0,
  "metadata": {
    "colab": {
      "name": "AES Audio Encryption & Decryption.ipynb",
      "provenance": []
    },
    "kernelspec": {
      "name": "python3",
      "display_name": "Python 3"
    },
    "language_info": {
      "name": "python"
    }
  },
  "cells": [
    {
      "cell_type": "code",
      "source": [
        "!sudo apt-get install libportaudio2"
      ],
      "metadata": {
        "colab": {
          "base_uri": "https://localhost:8080/"
        },
        "id": "7Tw0a75nylUp",
        "outputId": "0751165f-5dba-41ec-9104-b89420200404"
      },
      "execution_count": 2,
      "outputs": [
        {
          "output_type": "stream",
          "name": "stdout",
          "text": [
            "Reading package lists... Done\n",
            "Building dependency tree       \n",
            "Reading state information... Done\n",
            "The following NEW packages will be installed:\n",
            "  libportaudio2\n",
            "0 upgraded, 1 newly installed, 0 to remove and 39 not upgraded.\n",
            "Need to get 64.6 kB of archives.\n",
            "After this operation, 215 kB of additional disk space will be used.\n",
            "Get:1 http://archive.ubuntu.com/ubuntu bionic/universe amd64 libportaudio2 amd64 19.6.0-1 [64.6 kB]\n",
            "Fetched 64.6 kB in 0s (221 kB/s)\n",
            "debconf: unable to initialize frontend: Dialog\n",
            "debconf: (No usable dialog-like program is installed, so the dialog based frontend cannot be used. at /usr/share/perl5/Debconf/FrontEnd/Dialog.pm line 76, <> line 1.)\n",
            "debconf: falling back to frontend: Readline\n",
            "debconf: unable to initialize frontend: Readline\n",
            "debconf: (This frontend requires a controlling tty.)\n",
            "debconf: falling back to frontend: Teletype\n",
            "dpkg-preconfigure: unable to re-open stdin: \n",
            "Selecting previously unselected package libportaudio2:amd64.\n",
            "(Reading database ... 155455 files and directories currently installed.)\n",
            "Preparing to unpack .../libportaudio2_19.6.0-1_amd64.deb ...\n",
            "Unpacking libportaudio2:amd64 (19.6.0-1) ...\n",
            "Setting up libportaudio2:amd64 (19.6.0-1) ...\n",
            "Processing triggers for libc-bin (2.27-3ubuntu1.3) ...\n",
            "/sbin/ldconfig.real: /usr/local/lib/python3.7/dist-packages/ideep4py/lib/libmkldnn.so.0 is not a symbolic link\n",
            "\n"
          ]
        }
      ]
    },
    {
      "cell_type": "code",
      "source": [
        "!pip install sounddevice"
      ],
      "metadata": {
        "colab": {
          "base_uri": "https://localhost:8080/"
        },
        "id": "IHwKEw_vyl0x",
        "outputId": "877eea1f-abb8-4916-ad21-eea03b7daf04"
      },
      "execution_count": 3,
      "outputs": [
        {
          "output_type": "stream",
          "name": "stdout",
          "text": [
            "Collecting sounddevice\n",
            "  Downloading sounddevice-0.4.4-py3-none-any.whl (31 kB)\n",
            "Requirement already satisfied: CFFI>=1.0 in /usr/local/lib/python3.7/dist-packages (from sounddevice) (1.15.0)\n",
            "Requirement already satisfied: pycparser in /usr/local/lib/python3.7/dist-packages (from CFFI>=1.0->sounddevice) (2.21)\n",
            "Installing collected packages: sounddevice\n",
            "Successfully installed sounddevice-0.4.4\n"
          ]
        }
      ]
    },
    {
      "cell_type": "code",
      "source": [
        "!pip install crypto"
      ],
      "metadata": {
        "colab": {
          "base_uri": "https://localhost:8080/"
        },
        "id": "ErgRFElDywzR",
        "outputId": "b89f0932-1322-47de-80d3-a5d165c40b5d"
      },
      "execution_count": 12,
      "outputs": [
        {
          "output_type": "stream",
          "name": "stdout",
          "text": [
            "Requirement already satisfied: crypto in /usr/local/lib/python3.7/dist-packages (1.4.1)\n",
            "Requirement already satisfied: Naked in /usr/local/lib/python3.7/dist-packages (from crypto) (0.1.31)\n",
            "Requirement already satisfied: shellescape in /usr/local/lib/python3.7/dist-packages (from crypto) (3.8.1)\n",
            "Requirement already satisfied: pyyaml in /usr/local/lib/python3.7/dist-packages (from Naked->crypto) (3.13)\n",
            "Requirement already satisfied: requests in /usr/local/lib/python3.7/dist-packages (from Naked->crypto) (2.23.0)\n",
            "Requirement already satisfied: certifi>=2017.4.17 in /usr/local/lib/python3.7/dist-packages (from requests->Naked->crypto) (2021.10.8)\n",
            "Requirement already satisfied: chardet<4,>=3.0.2 in /usr/local/lib/python3.7/dist-packages (from requests->Naked->crypto) (3.0.4)\n",
            "Requirement already satisfied: urllib3!=1.25.0,!=1.25.1,<1.26,>=1.21.1 in /usr/local/lib/python3.7/dist-packages (from requests->Naked->crypto) (1.24.3)\n",
            "Requirement already satisfied: idna<3,>=2.5 in /usr/local/lib/python3.7/dist-packages (from requests->Naked->crypto) (2.10)\n"
          ]
        }
      ]
    },
    {
      "cell_type": "code",
      "source": [
        "pip install pycrypto"
      ],
      "metadata": {
        "colab": {
          "base_uri": "https://localhost:8080/"
        },
        "id": "ED2k2t3fy7CR",
        "outputId": "37f9f3d5-9808-4d71-9d5b-c18b2bf55b39"
      },
      "execution_count": 16,
      "outputs": [
        {
          "output_type": "stream",
          "name": "stdout",
          "text": [
            "Collecting pycrypto\n",
            "  Downloading pycrypto-2.6.1.tar.gz (446 kB)\n",
            "\u001b[?25l\r\u001b[K     |▊                               | 10 kB 16.5 MB/s eta 0:00:01\r\u001b[K     |█▌                              | 20 kB 17.4 MB/s eta 0:00:01\r\u001b[K     |██▏                             | 30 kB 7.8 MB/s eta 0:00:01\r\u001b[K     |███                             | 40 kB 9.5 MB/s eta 0:00:01\r\u001b[K     |███▊                            | 51 kB 4.5 MB/s eta 0:00:01\r\u001b[K     |████▍                           | 61 kB 5.3 MB/s eta 0:00:01\r\u001b[K     |█████▏                          | 71 kB 6.0 MB/s eta 0:00:01\r\u001b[K     |█████▉                          | 81 kB 4.4 MB/s eta 0:00:01\r\u001b[K     |██████▋                         | 92 kB 4.9 MB/s eta 0:00:01\r\u001b[K     |███████▍                        | 102 kB 5.2 MB/s eta 0:00:01\r\u001b[K     |████████                        | 112 kB 5.2 MB/s eta 0:00:01\r\u001b[K     |████████▉                       | 122 kB 5.2 MB/s eta 0:00:01\r\u001b[K     |█████████▌                      | 133 kB 5.2 MB/s eta 0:00:01\r\u001b[K     |██████████▎                     | 143 kB 5.2 MB/s eta 0:00:01\r\u001b[K     |███████████                     | 153 kB 5.2 MB/s eta 0:00:01\r\u001b[K     |███████████▊                    | 163 kB 5.2 MB/s eta 0:00:01\r\u001b[K     |████████████▌                   | 174 kB 5.2 MB/s eta 0:00:01\r\u001b[K     |█████████████▏                  | 184 kB 5.2 MB/s eta 0:00:01\r\u001b[K     |██████████████                  | 194 kB 5.2 MB/s eta 0:00:01\r\u001b[K     |██████████████▊                 | 204 kB 5.2 MB/s eta 0:00:01\r\u001b[K     |███████████████▍                | 215 kB 5.2 MB/s eta 0:00:01\r\u001b[K     |████████████████▏               | 225 kB 5.2 MB/s eta 0:00:01\r\u001b[K     |█████████████████               | 235 kB 5.2 MB/s eta 0:00:01\r\u001b[K     |█████████████████▋              | 245 kB 5.2 MB/s eta 0:00:01\r\u001b[K     |██████████████████▍             | 256 kB 5.2 MB/s eta 0:00:01\r\u001b[K     |███████████████████             | 266 kB 5.2 MB/s eta 0:00:01\r\u001b[K     |███████████████████▉            | 276 kB 5.2 MB/s eta 0:00:01\r\u001b[K     |████████████████████▋           | 286 kB 5.2 MB/s eta 0:00:01\r\u001b[K     |█████████████████████▎          | 296 kB 5.2 MB/s eta 0:00:01\r\u001b[K     |██████████████████████          | 307 kB 5.2 MB/s eta 0:00:01\r\u001b[K     |██████████████████████▊         | 317 kB 5.2 MB/s eta 0:00:01\r\u001b[K     |███████████████████████▌        | 327 kB 5.2 MB/s eta 0:00:01\r\u001b[K     |████████████████████████▎       | 337 kB 5.2 MB/s eta 0:00:01\r\u001b[K     |█████████████████████████       | 348 kB 5.2 MB/s eta 0:00:01\r\u001b[K     |█████████████████████████▊      | 358 kB 5.2 MB/s eta 0:00:01\r\u001b[K     |██████████████████████████▍     | 368 kB 5.2 MB/s eta 0:00:01\r\u001b[K     |███████████████████████████▏    | 378 kB 5.2 MB/s eta 0:00:01\r\u001b[K     |████████████████████████████    | 389 kB 5.2 MB/s eta 0:00:01\r\u001b[K     |████████████████████████████▋   | 399 kB 5.2 MB/s eta 0:00:01\r\u001b[K     |█████████████████████████████▍  | 409 kB 5.2 MB/s eta 0:00:01\r\u001b[K     |██████████████████████████████  | 419 kB 5.2 MB/s eta 0:00:01\r\u001b[K     |██████████████████████████████▉ | 430 kB 5.2 MB/s eta 0:00:01\r\u001b[K     |███████████████████████████████▋| 440 kB 5.2 MB/s eta 0:00:01\r\u001b[K     |████████████████████████████████| 446 kB 5.2 MB/s \n",
            "\u001b[?25hBuilding wheels for collected packages: pycrypto\n",
            "  Building wheel for pycrypto (setup.py) ... \u001b[?25l\u001b[?25hdone\n",
            "  Created wheel for pycrypto: filename=pycrypto-2.6.1-cp37-cp37m-linux_x86_64.whl size=499932 sha256=7516358757c6e7fc3c7b1d432de66df3c0282a87ecccb2edb16f16dce9d71369\n",
            "  Stored in directory: /root/.cache/pip/wheels/cf/85/ba/bbd7c96add459de7598fb424e5ff2309baf2095c844ac0f191\n",
            "Successfully built pycrypto\n",
            "Installing collected packages: pycrypto\n",
            "Successfully installed pycrypto-2.6.1\n"
          ]
        }
      ]
    },
    {
      "cell_type": "code",
      "source": [
        "from scipy.io import wavfile\n",
        "import numpy as np\n",
        "import matplotlib.pyplot as plt\n",
        "import sounddevice as sd\n",
        "import random\n",
        "import string\n",
        "from Crypto.Cipher import AES"
      ],
      "metadata": {
        "id": "kWa30O75yoOJ"
      },
      "execution_count": 17,
      "outputs": []
    },
    {
      "cell_type": "code",
      "source": [
        "fs, data = wavfile.read('/content/drive/MyDrive/03-01-01-01-01-01-01.wav')\n",
        "plt.plot(data)            # fs = sampling frequency = 44.1kHz\n",
        "plt.title(\"Original Audio Plot\")"
      ],
      "metadata": {
        "colab": {
          "base_uri": "https://localhost:8080/",
          "height": 298
        },
        "id": "leQC4CPWzcL5",
        "outputId": "eda6d986-2e1e-40c5-a9f2-ea1a0dc69e27"
      },
      "execution_count": 18,
      "outputs": [
        {
          "output_type": "execute_result",
          "data": {
            "text/plain": [
              "Text(0.5, 1.0, 'Original Audio Plot')"
            ]
          },
          "metadata": {},
          "execution_count": 18
        },
        {
          "output_type": "display_data",
          "data": {
            "text/plain": [
              "<Figure size 432x288 with 1 Axes>"
            ],
            "image/png": "[encoded data removed]"
          },
          "metadata": {
            "needs_background": "light"
          }
        }
      ]
    },
    {
      "cell_type": "code",
      "source": [
        "with open('/content/drive/MyDrive/03-01-01-01-01-01-01.wav', 'rb') as fd:\n",
        "    contents = fd.read()"
      ],
      "metadata": {
        "id": "huSY4LVWziQw"
      },
      "execution_count": 19,
      "outputs": []
    },
    {
      "cell_type": "code",
      "source": [
        "AES_KEY = ''.join(random.choice(string.ascii_uppercase + string.ascii_lowercase + string.digits) for x in range(32))\n",
        "\n",
        "AES_IV = ''.join(random.choice(string.ascii_uppercase + string.ascii_lowercase + string.digits) for x in range(16))"
      ],
      "metadata": {
        "id": "mivyvxjjzndA"
      },
      "execution_count": 21,
      "outputs": []
    },
    {
      "cell_type": "code",
      "source": [
        "print(\"AES Key is \", AES_KEY)\n",
        "print(\"AES Initialization vector is \", AES_IV)"
      ],
      "metadata": {
        "colab": {
          "base_uri": "https://localhost:8080/"
        },
        "id": "ZC3XguUdzsFw",
        "outputId": "de6609c2-e644-49f5-aff4-c28141bc2bc1"
      },
      "execution_count": 22,
      "outputs": [
        {
          "output_type": "stream",
          "name": "stdout",
          "text": [
            "AES Key is  PZGw7LIhHzsFl2mui8EWGuXDAUWwYhon\n",
            "AES Initialization vector is  U4wFAoFjDfXIGkRi\n"
          ]
        }
      ]
    },
    {
      "cell_type": "code",
      "source": [
        "encryptor = AES.new(AES_KEY.encode(\"utf-8\"), AES.MODE_CFB, AES_IV.encode(\"utf-8\"))\n",
        "encrypted_audio = encryptor.encrypt(contents)"
      ],
      "metadata": {
        "id": "0J8EkTuxzt76"
      },
      "execution_count": 24,
      "outputs": []
    },
    {
      "cell_type": "code",
      "source": [
        "with open('/content/drive/MyDrive/encrypted_audio_file.wav', 'wb') as fd:\n",
        "    fd.write(encrypted_audio)\n",
        "print(\"A file titled 'encrypted_audio_file.wav' is generated which is the encrypted audio to be communicated\")"
      ],
      "metadata": {
        "colab": {
          "base_uri": "https://localhost:8080/"
        },
        "id": "cPleuJrszxSw",
        "outputId": "ca75e74e-e24a-4c69-c84e-c7cd13d2d011"
      },
      "execution_count": 25,
      "outputs": [
        {
          "output_type": "stream",
          "name": "stdout",
          "text": [
            "A file titled 'encrypted_audio_file.wav' is generated which is the encrypted audio to be communicated\n"
          ]
        }
      ]
    },
    {
      "cell_type": "code",
      "source": [
        "with open('/content/drive/MyDrive/encrypted_audio_file.wav', 'rb') as fd:\n",
        "    contents = fd.read()"
      ],
      "metadata": {
        "id": "0otS5fSHz3No"
      },
      "execution_count": 27,
      "outputs": []
    },
    {
      "cell_type": "code",
      "source": [
        "decryptor = AES.new(AES_KEY.encode(\"utf-8\"), AES.MODE_CFB, AES_IV.encode(\"utf-8\"))\n",
        "decrypted_audio = decryptor.decrypt(contents)"
      ],
      "metadata": {
        "id": "Egi6CcEAz9mP"
      },
      "execution_count": 28,
      "outputs": []
    },
    {
      "cell_type": "code",
      "source": [
        "with open('/content/drive/MyDrive/decrypted_audio_file.wav', 'wb') as fd:\n",
        "    fd.write(decrypted_audio)"
      ],
      "metadata": {
        "id": "TcsQDr3uz_V3"
      },
      "execution_count": 29,
      "outputs": []
    },
    {
      "cell_type": "code",
      "source": [
        "fs, data = wavfile.read('/content/drive/MyDrive/decrypted_audio_file.wav')\n",
        "plt.plot(data)            # fs = sampling frequency = 44.1kHz\n",
        "plt.title(\"Original Audio Plot\")\n",
        "data_1 = np.asarray(data, dtype = np.int32)"
      ],
      "metadata": {
        "colab": {
          "base_uri": "https://localhost:8080/",
          "height": 281
        },
        "id": "deC-WtRv0Hu_",
        "outputId": "207b290e-b45d-4a26-c7ee-49c6ce799035"
      },
      "execution_count": 30,
      "outputs": [
        {
          "output_type": "display_data",
          "data": {
            "text/plain": [
              "<Figure size 432x288 with 1 Axes>"
            ],
            "image/png": "[encoded data removed]"
          },
          "metadata": {
            "needs_background": "light"
          }
        }
      ]
    }
  ]
}