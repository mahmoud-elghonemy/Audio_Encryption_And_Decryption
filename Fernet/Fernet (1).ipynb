{
  "nbformat": 4,
  "nbformat_minor": 0,
  "metadata": {
    "colab": {
      "name": "Fernet.ipynb",
      "provenance": []
    },
    "kernelspec": {
      "name": "python3",
      "display_name": "Python 3"
    },
    "language_info": {
      "name": "python"
    }
  },
  "cells": [
    {
      "cell_type": "code",
      "execution_count": 1,
      "metadata": {
        "colab": {
          "base_uri": "https://localhost:8080/"
        },
        "id": "4imioE4r5SA8",
        "outputId": "b8df540a-1145-4acb-a2d4-e210f7fe93ff"
      },
      "outputs": [
        {
          "output_type": "stream",
          "name": "stdout",
          "text": [
            "Collecting cryptography\n",
            "  Downloading cryptography-36.0.2-cp36-abi3-manylinux_2_24_x86_64.whl (3.6 MB)\n",
            "\u001b[K     |████████████████████████████████| 3.6 MB 7.3 MB/s \n",
            "\u001b[?25hRequirement already satisfied: cffi>=1.12 in /usr/local/lib/python3.7/dist-packages (from cryptography) (1.15.0)\n",
            "Requirement already satisfied: pycparser in /usr/local/lib/python3.7/dist-packages (from cffi>=1.12->cryptography) (2.21)\n",
            "Installing collected packages: cryptography\n",
            "Successfully installed cryptography-36.0.2\n"
          ]
        }
      ],
      "source": [
        "pip install cryptography"
      ]
    },
    {
      "cell_type": "code",
      "source": [
        "#import\n",
        "from cryptography.fernet import Fernet"
      ],
      "metadata": {
        "id": "M3396Xip7pjp"
      },
      "execution_count": 2,
      "outputs": []
    },
    {
      "cell_type": "code",
      "source": [
        "#generate key\n",
        "key = Fernet.generate_key()\n",
        "key"
      ],
      "metadata": {
        "colab": {
          "base_uri": "https://localhost:8080/"
        },
        "id": "HAH1kWIt7pSc",
        "outputId": "10790e92-47ac-4b1d-cb52-f6b639f36855"
      },
      "execution_count": 3,
      "outputs": [
        {
          "output_type": "execute_result",
          "data": {
            "text/plain": [
              "b'PnCExe-mT_Z8ciG7JJROxbvA_rPgf414cgxbns0dIeg='"
            ]
          },
          "metadata": {},
          "execution_count": 3
        }
      ]
    },
    {
      "cell_type": "code",
      "source": [
        "#save key in file\n",
        "fernet = Fernet(key)\n",
        "with open('key.key' , 'wb') as filekey:\n",
        "  filekey.write(key)\n",
        "\n",
        "with open('key.key' , 'rb') as filekey:\n",
        "  key=filekey.read()  "
      ],
      "metadata": {
        "id": "iqDuPNpq7o1N"
      },
      "execution_count": 6,
      "outputs": []
    },
    {
      "cell_type": "code",
      "source": [
        "#encryption\n",
        "with open('original.wav' , 'rb') as file:\n",
        "  original = file.read()\n",
        "\n",
        "encrypted = fernet.encrypt(original)  \n",
        "\n",
        "with open('encrepted.wav', 'wb') as encrepted_file:\n",
        "  encrepted_file.write(encrypted)\n",
        "\n",
        "\n"
      ],
      "metadata": {
        "id": "l5qmqU5V87ct"
      },
      "execution_count": 7,
      "outputs": []
    },
    {
      "cell_type": "code",
      "source": [
        "#decryption\n",
        "with open('encrepted.wav' , 'rb') as enc_file:\n",
        "  encrypted = enc_file.read()\n",
        "\n",
        "decrypted = fernet.decrypt(encrypted)  \n",
        "\n",
        "with open('decrypted.wav', 'wb') as decrypted_file:\n",
        "  decrypted_file.write(decrypted)"
      ],
      "metadata": {
        "id": "Vc3JRn-k87NV"
      },
      "execution_count": 8,
      "outputs": []
    },
    {
      "cell_type": "markdown",
      "source": [
        "Fernet is ideal for encrypting data that easily fits in memory. As a design feature it does not expose unauthenticated bytes. This means that the complete message contents must be available in memory, making Fernet generally unsuitable for very large files at this time."
      ],
      "metadata": {
        "id": "QTDxUxdyCPfa"
      }
    },
    {
      "cell_type": "markdown",
      "source": [
        "Fernet is built on top of a number of standard cryptographic primitives. Specifically it uses:\n",
        "\n",
        "AES in CBC mode with a 128-bit key for encryption; using PKCS7 padding.\n",
        "\n",
        "HMAC using SHA256 for authentication.\n",
        "\n",
        "Initialization vectors are generated using os.urandom().\n"
      ],
      "metadata": {
        "id": "ESWVmUdLCR3H"
      }
    },
    {
      "cell_type": "markdown",
      "source": [
        "The fernet module guarantees that data encrypted using it cannot be further manipulated or read without the key. \n"
      ],
      "metadata": {
        "id": "ZBwr5gCvDVOh"
      }
    },
    {
      "cell_type": "markdown",
      "source": [
        "![download.png](data:image/png;base64,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)"
      ],
      "metadata": {
        "id": "l4HEAWUIDW3i"
      }
    }
  ]
}