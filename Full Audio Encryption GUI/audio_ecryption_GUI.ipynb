{
  "nbformat": 4,
  "nbformat_minor": 0,
  "metadata": {
    "colab": {
      "name": "audio_ecryption_GUI.ipynb",
      "provenance": [],
      "collapsed_sections": []
    },
    "kernelspec": {
      "name": "python3",
      "display_name": "Python 3"
    },
    "language_info": {
      "name": "python"
    }
  },
  "cells": [
    {
      "cell_type": "code",
      "source": [
        "!sudo apt-get install libportaudio2"
      ],
      "metadata": {
        "colab": {
          "base_uri": "https://localhost:8080/"
        },
        "id": "qjet0LOl3p9X",
        "outputId": "4319313b-7233-4264-d550-52ab4f95984f"
      },
      "execution_count": null,
      "outputs": [
        {
          "output_type": "stream",
          "name": "stdout",
          "text": [
            "Reading package lists... Done\n",
            "Building dependency tree       \n",
            "Reading state information... Done\n",
            "The following NEW packages will be installed:\n",
            "  libportaudio2\n",
            "0 upgraded, 1 newly installed, 0 to remove and 40 not upgraded.\n",
            "Need to get 64.6 kB of archives.\n",
            "After this operation, 215 kB of additional disk space will be used.\n",
            "Get:1 http://archive.ubuntu.com/ubuntu bionic/universe amd64 libportaudio2 amd64 19.6.0-1 [64.6 kB]\n",
            "Fetched 64.6 kB in 0s (366 kB/s)\n",
            "debconf: unable to initialize frontend: Dialog\n",
            "debconf: (No usable dialog-like program is installed, so the dialog based frontend cannot be used. at /usr/share/perl5/Debconf/FrontEnd/Dialog.pm line 76, <> line 1.)\n",
            "debconf: falling back to frontend: Readline\n",
            "debconf: unable to initialize frontend: Readline\n",
            "debconf: (This frontend requires a controlling tty.)\n",
            "debconf: falling back to frontend: Teletype\n",
            "dpkg-preconfigure: unable to re-open stdin: \n",
            "Selecting previously unselected package libportaudio2:amd64.\n",
            "(Reading database ... 155501 files and directories currently installed.)\n",
            "Preparing to unpack .../libportaudio2_19.6.0-1_amd64.deb ...\n",
            "Unpacking libportaudio2:amd64 (19.6.0-1) ...\n",
            "Setting up libportaudio2:amd64 (19.6.0-1) ...\n",
            "Processing triggers for libc-bin (2.27-3ubuntu1.3) ...\n",
            "/sbin/ldconfig.real: /usr/local/lib/python3.7/dist-packages/ideep4py/lib/libmkldnn.so.0 is not a symbolic link\n",
            "\n"
          ]
        }
      ]
    },
    {
      "cell_type": "code",
      "source": [
        "!pip install sounddevice"
      ],
      "metadata": {
        "colab": {
          "base_uri": "https://localhost:8080/"
        },
        "id": "ZZXBkQIk3pAp",
        "outputId": "500d2503-2250-4056-d8d0-0f766fb9a392"
      },
      "execution_count": null,
      "outputs": [
        {
          "output_type": "stream",
          "name": "stdout",
          "text": [
            "Collecting sounddevice\n",
            "  Downloading sounddevice-0.4.4-py3-none-any.whl (31 kB)\n",
            "Requirement already satisfied: CFFI>=1.0 in /usr/local/lib/python3.7/dist-packages (from sounddevice) (1.15.0)\n",
            "Requirement already satisfied: pycparser in /usr/local/lib/python3.7/dist-packages (from CFFI>=1.0->sounddevice) (2.21)\n",
            "Installing collected packages: sounddevice\n",
            "Successfully installed sounddevice-0.4.4\n"
          ]
        }
      ]
    },
    {
      "cell_type": "code",
      "source": [
        "!pip install crypto"
      ],
      "metadata": {
        "colab": {
          "base_uri": "https://localhost:8080/"
        },
        "id": "06a7JB553pPu",
        "outputId": "ffc37f68-50cb-4005-c952-79ad2bae6fcb"
      },
      "execution_count": null,
      "outputs": [
        {
          "output_type": "stream",
          "name": "stdout",
          "text": [
            "Collecting crypto\n",
            "  Downloading crypto-1.4.1-py2.py3-none-any.whl (18 kB)\n",
            "Collecting Naked\n",
            "  Downloading Naked-0.1.31-py2.py3-none-any.whl (590 kB)\n",
            "\u001b[K     |████████████████████████████████| 590 kB 5.1 MB/s \n",
            "\u001b[?25hCollecting shellescape\n",
            "  Downloading shellescape-3.8.1-py2.py3-none-any.whl (3.1 kB)\n",
            "Requirement already satisfied: pyyaml in /usr/local/lib/python3.7/dist-packages (from Naked->crypto) (3.13)\n",
            "Requirement already satisfied: requests in /usr/local/lib/python3.7/dist-packages (from Naked->crypto) (2.23.0)\n",
            "Requirement already satisfied: urllib3!=1.25.0,!=1.25.1,<1.26,>=1.21.1 in /usr/local/lib/python3.7/dist-packages (from requests->Naked->crypto) (1.24.3)\n",
            "Requirement already satisfied: idna<3,>=2.5 in /usr/local/lib/python3.7/dist-packages (from requests->Naked->crypto) (2.10)\n",
            "Requirement already satisfied: chardet<4,>=3.0.2 in /usr/local/lib/python3.7/dist-packages (from requests->Naked->crypto) (3.0.4)\n",
            "Requirement already satisfied: certifi>=2017.4.17 in /usr/local/lib/python3.7/dist-packages (from requests->Naked->crypto) (2021.10.8)\n",
            "Installing collected packages: shellescape, Naked, crypto\n",
            "Successfully installed Naked-0.1.31 crypto-1.4.1 shellescape-3.8.1\n"
          ]
        }
      ]
    },
    {
      "cell_type": "code",
      "source": [
        "!pip install pycryptodome"
      ],
      "metadata": {
        "colab": {
          "base_uri": "https://localhost:8080/"
        },
        "id": "FF9DFA3MnWsp",
        "outputId": "51762ea7-15f8-43fc-9410-54fa4a67bef1"
      },
      "execution_count": null,
      "outputs": [
        {
          "output_type": "stream",
          "name": "stdout",
          "text": [
            "Collecting pycryptodome\n",
            "  Downloading pycryptodome-3.14.1-cp35-abi3-manylinux2010_x86_64.whl (2.0 MB)\n",
            "\u001b[K     |████████████████████████████████| 2.0 MB 5.1 MB/s \n",
            "\u001b[?25hInstalling collected packages: pycryptodome\n",
            "Successfully installed pycryptodome-3.14.1\n"
          ]
        }
      ]
    },
    {
      "cell_type": "code",
      "source": [
        "pip install pycryptodomex"
      ],
      "metadata": {
        "colab": {
          "base_uri": "https://localhost:8080/"
        },
        "id": "fhL7yf0wVWi7",
        "outputId": "9176b164-77ff-479a-f19c-8cb788324f6f"
      },
      "execution_count": null,
      "outputs": [
        {
          "output_type": "stream",
          "name": "stdout",
          "text": [
            "Collecting pycryptodomex\n",
            "  Downloading pycryptodomex-3.14.1-cp35-abi3-manylinux2010_x86_64.whl (2.0 MB)\n",
            "\u001b[K     |████████████████████████████████| 2.0 MB 5.2 MB/s \n",
            "\u001b[?25hInstalling collected packages: pycryptodomex\n",
            "Successfully installed pycryptodomex-3.14.1\n"
          ]
        }
      ]
    },
    {
      "cell_type": "code",
      "source": [
        "pip install cryptography"
      ],
      "metadata": {
        "colab": {
          "base_uri": "https://localhost:8080/"
        },
        "id": "DfBhK_pH3peB",
        "outputId": "1578eda0-24ca-434f-826f-04509d489267"
      },
      "execution_count": null,
      "outputs": [
        {
          "output_type": "stream",
          "name": "stdout",
          "text": [
            "Collecting cryptography\n",
            "  Downloading cryptography-36.0.2-cp36-abi3-manylinux_2_24_x86_64.whl (3.6 MB)\n",
            "\u001b[K     |████████████████████████████████| 3.6 MB 5.2 MB/s \n",
            "\u001b[?25hRequirement already satisfied: cffi>=1.12 in /usr/local/lib/python3.7/dist-packages (from cryptography) (1.15.0)\n",
            "Requirement already satisfied: pycparser in /usr/local/lib/python3.7/dist-packages (from cffi>=1.12->cryptography) (2.21)\n",
            "Installing collected packages: cryptography\n",
            "Successfully installed cryptography-36.0.2\n"
          ]
        }
      ]
    },
    {
      "cell_type": "code",
      "source": [
        "pip install tinyec"
      ],
      "metadata": {
        "colab": {
          "base_uri": "https://localhost:8080/"
        },
        "id": "qD-jym74R92p",
        "outputId": "7dcc5bb5-01ee-416c-c79d-a5d873e3286d"
      },
      "execution_count": null,
      "outputs": [
        {
          "output_type": "stream",
          "name": "stdout",
          "text": [
            "Collecting tinyec\n",
            "  Downloading tinyec-0.4.0.tar.gz (24 kB)\n",
            "Building wheels for collected packages: tinyec\n",
            "  Building wheel for tinyec (setup.py) ... \u001b[?25l\u001b[?25hdone\n",
            "  Created wheel for tinyec: filename=tinyec-0.4.0-py3-none-any.whl size=20892 sha256=326d9b6e396b33064260f320d36fb0899997c919b2d3edec42d0415b08cd7981\n",
            "  Stored in directory: /root/.cache/pip/wheels/8e/5c/09/6730b2b261b8329cf6c339003a415b98ae1cdd1552d5882fcf\n",
            "Successfully built tinyec\n",
            "Installing collected packages: tinyec\n",
            "Successfully installed tinyec-0.4.0\n"
          ]
        }
      ]
    },
    {
      "cell_type": "code",
      "source": [
        "pip install seccure"
      ],
      "metadata": {
        "colab": {
          "base_uri": "https://localhost:8080/"
        },
        "id": "3Q4fUvNCYpCP",
        "outputId": "8db08154-17ca-44d4-83f1-eaa7fada98e1"
      },
      "execution_count": null,
      "outputs": [
        {
          "output_type": "stream",
          "name": "stdout",
          "text": [
            "Collecting seccure\n",
            "  Downloading seccure-0.5.0.tar.gz (40 kB)\n",
            "\u001b[?25l\r\u001b[K     |████████▏                       | 10 kB 17.8 MB/s eta 0:00:01\r\u001b[K     |████████████████▍               | 20 kB 9.4 MB/s eta 0:00:01\r\u001b[K     |████████████████████████▌       | 30 kB 7.6 MB/s eta 0:00:01\r\u001b[K     |████████████████████████████████| 40 kB 3.1 MB/s \n",
            "\u001b[?25hRequirement already satisfied: pycryptodome in /usr/local/lib/python3.7/dist-packages (from seccure) (3.14.1)\n",
            "Collecting gmpy2>=2\n",
            "  Downloading gmpy2-2.1.2-cp37-cp37m-manylinux_2_17_x86_64.manylinux2014_x86_64.whl (3.6 MB)\n",
            "\u001b[K     |████████████████████████████████| 3.6 MB 8.3 MB/s \n",
            "\u001b[?25hRequirement already satisfied: six>=1.2 in /usr/local/lib/python3.7/dist-packages (from seccure) (1.15.0)\n",
            "Building wheels for collected packages: seccure\n",
            "  Building wheel for seccure (setup.py) ... \u001b[?25l\u001b[?25hdone\n",
            "  Created wheel for seccure: filename=seccure-0.5.0-py3-none-any.whl size=40757 sha256=05ea2f8fd11552a6695517646a8089c81411ea7fc383c23ced433a6d9c83a494\n",
            "  Stored in directory: /root/.cache/pip/wheels/db/c3/32/3082fb9ec97cb775cdd9d51d5c0d4f9b5ea5243cbc65f053a9\n",
            "Successfully built seccure\n",
            "Installing collected packages: gmpy2, seccure\n",
            "Successfully installed gmpy2-2.1.2 seccure-0.5.0\n"
          ]
        }
      ]
    },
    {
      "cell_type": "code",
      "source": [
        "from google.colab import drive\n",
        "drive.mount('/content/drive')"
      ],
      "metadata": {
        "colab": {
          "base_uri": "https://localhost:8080/"
        },
        "id": "hfQelIHVWDc9",
        "outputId": "9c58dc49-4498-4f58-93ee-1d5cc4c1c4ee"
      },
      "execution_count": null,
      "outputs": [
        {
          "output_type": "stream",
          "name": "stdout",
          "text": [
            "Mounted at /content/drive\n"
          ]
        }
      ]
    },
    {
      "cell_type": "code",
      "source": [
        "#import\n",
        "from cryptography.fernet import Fernet\n",
        "from scipy.io import wavfile\n",
        "import numpy as np\n",
        "import matplotlib.pyplot as plt\n",
        "#import sounddevice as sd\n",
        "import random\n",
        "import string\n",
        "from Crypto.Cipher import AES\n",
        "from Crypto.Cipher import DES\n",
        "from Crypto.Cipher import DES3\n",
        "import IPython.display as ipd\n",
        "import librosa\n",
        "import librosa.display\n",
        "import scipy.io.wavfile\n",
        "import numpy\n",
        "import time\n",
        "import sys\n",
        "from tqdm import tqdm\n",
        "import seccure\n",
        "from Crypto.Util.Padding import pad\n",
        "from Crypto.Random import get_random_bytes\n",
        "from Crypto.Cipher import PKCS1_OAEP\n",
        "from Crypto.PublicKey import RSA\n"
      ],
      "metadata": {
        "id": "IyxcQy7E3pmY"
      },
      "execution_count": null,
      "outputs": []
    },
    {
      "cell_type": "code",
      "source": [
        "fs, data = wavfile.read('/content/drive/MyDrive/data_set/RAVDESS_song/Actor_01/03-02-01-01-01-01-01.wav')\n",
        "plt.plot(data)            # fs = sampling frequency = 44.1kHz\n",
        "plt.title(\"Original Audio Plot\")"
      ],
      "metadata": {
        "colab": {
          "base_uri": "https://localhost:8080/",
          "height": 336
        },
        "id": "FQZ4Hsnl3puA",
        "outputId": "c669e5d1-a4aa-448e-bb47-3047500ca58b"
      },
      "execution_count": null,
      "outputs": [
        {
          "output_type": "stream",
          "name": "stderr",
          "text": [
            "/usr/local/lib/python3.7/dist-packages/ipykernel_launcher.py:1: WavFileWarning: Chunk (non-data) not understood, skipping it.\n",
            "  \"\"\"Entry point for launching an IPython kernel.\n"
          ]
        },
        {
          "output_type": "execute_result",
          "data": {
            "text/plain": [
              "Text(0.5, 1.0, 'Original Audio Plot')"
            ]
          },
          "metadata": {},
          "execution_count": 11
        },
        {
          "output_type": "display_data",
          "data": {
            "text/plain": [
              "<Figure size 432x288 with 1 Axes>"
            ],
            "image/png": "[encoded data removed]"
          },
          "metadata": {
            "needs_background": "light"
          }
        }
      ]
    },
    {
      "cell_type": "code",
      "source": [
        "def AES_func():\n",
        "\n",
        "\n",
        "\n",
        "   #KEY &IV\n",
        "  AES_KEY = ''.join(random.choice(string.ascii_uppercase + string.ascii_lowercase + string.digits) for x in range(32))\n",
        "  AES_IV = ''.join(random.choice(string.ascii_uppercase + string.ascii_lowercase + string.digits) for x in range(16))\n",
        "  \n",
        "  print(\"AES Key is \", AES_KEY)\n",
        "  print(\"AES Initialization vector is \", AES_IV)\n",
        "\n",
        "  #Encryption\n",
        "  with open('/content/drive/MyDrive/data_set/RAVDESS_song/Actor_01/03-02-01-01-01-01-01.wav', 'rb') as fd:\n",
        "    contents = fd.read()\n",
        "\n",
        "  encryptor = AES.new(AES_KEY.encode(\"utf-8\"), AES.MODE_CFB, AES_IV.encode(\"utf-8\"))\n",
        "  encrypted_audio = encryptor.encrypt(contents)\n",
        "  \n",
        "  with open('EN.wav', 'wb') as fd:\n",
        "   fd.write(encrypted_audio)\n",
        "  print(\"A file titled 'EN.wav' is generated which is the encrypted audio to be communicated\")\n",
        "\n",
        "\n",
        "  #Decryption\n",
        "  with open('EN.wav', 'rb') as fd:\n",
        "    contents = fd.read()\n",
        "\n",
        "  decryptor = AES.new(AES_KEY.encode(\"utf-8\"), AES.MODE_CFB, AES_IV.encode(\"utf-8\"))\n",
        "  decrypted_audio = decryptor.decrypt(contents)\n",
        "\n",
        "  with open('DE.wav', 'wb') as fd:\n",
        "    fd.write(decrypted_audio)\n",
        "  print(\"A file titled 'DE.wav' is generated which is the decrypted audio to be communicated\")\n",
        "\n",
        "  #plot decrypted audio\n",
        "  fs, data = wavfile.read('/content/DE.wav')\n",
        "  plt.plot(data)            # fs = sampling frequency = 44.1kHz\n",
        "  plt.title(\"decrypted audio\")"
      ],
      "metadata": {
        "id": "Xjqz1Pd2WNYN"
      },
      "execution_count": null,
      "outputs": []
    },
    {
      "cell_type": "code",
      "source": [
        "def DES_func():\n",
        "  \n",
        "\n",
        "  #KEY &IV\n",
        "  DES_KEY = ''.join(random.choice(string.ascii_uppercase + string.ascii_lowercase + string.digits) for x in range(8))\n",
        "  DES_IV = ''.join(random.choice(string.ascii_uppercase + string.ascii_lowercase + string.digits) for x in range(8))\n",
        "  \n",
        "  print(\"DES Key is \", DES_KEY)\n",
        "  print(\"DES Initialization vector is \", DES_IV)\n",
        "\n",
        "  #Encryption\n",
        "  with open('/content/drive/MyDrive/data_set/RAVDESS_song/Actor_01/03-02-01-01-01-01-01.wav', 'rb') as fd:\n",
        "    contents = fd.read()\n",
        "\n",
        "\n",
        "  encryptor = DES.new(DES_KEY.encode(\"utf-8\"), DES.MODE_CFB, DES_IV.encode(\"utf-8\"))\n",
        "  encrypted_audio = encryptor.encrypt(contents)\n",
        "  \n",
        "  with open('EN.wav', 'wb') as fd:\n",
        "   fd.write(encrypted_audio)\n",
        "  print(\"A file titled 'encrypted_audio_file.wav' is generated which is the encrypted audio to be communicated\")\n",
        "  \n",
        "\n",
        "    #Decryption\n",
        "  with open('EN.wav', 'rb') as fd:\n",
        "    contents = fd.read()\n",
        "\n",
        "  decryptor = DES.new(DES_KEY.encode(\"utf-8\"), DES.MODE_CFB, DES_IV.encode(\"utf-8\"))\n",
        "  decrypted_audio = decryptor.decrypt(contents)\n",
        "\n",
        "  with open('DE.wav', 'wb') as fd:\n",
        "    fd.write(decrypted_audio)\n",
        "\n",
        "  print(\"A file titled 'DE.wav' is generated which is the decrypted audio to be communicated\")\n",
        "\n",
        "  #plot decrypted audio\n",
        "  fs, data = wavfile.read('/content/DE.wav')\n",
        "  plt.plot(data)            # fs = sampling frequency = 44.1kHz\n",
        "  plt.title(\"decrypted audio\")"
      ],
      "metadata": {
        "id": "THw7GrU-xFzt"
      },
      "execution_count": null,
      "outputs": []
    },
    {
      "cell_type": "code",
      "source": [
        "def FERNET_func():\n",
        "   \n",
        "   #generate key\n",
        "   key = Fernet.generate_key()\n",
        "   print(\"Key is \", key)  \n",
        "  \n",
        "   fernet = Fernet(key)\n",
        "   with open('encryption_key.wav', 'wb') as filekey:\n",
        "     filekey.write(key)\n",
        "\n",
        "   with open('encryption_key.wav' , 'rb') as filekey:\n",
        "     key=filekey.read() \n",
        "   \n",
        "\n",
        "     #encryption\n",
        "   with open('/content/drive/MyDrive/data_set/RAVDESS_song/Actor_01/03-02-01-01-01-01-01.wav', 'rb') as file:\n",
        "     original = file.read()\n",
        "\n",
        "   encrypted = fernet.encrypt(original)  \n",
        "\n",
        "   with open('EN.wav', 'wb') as encrepted_file:\n",
        "     encrepted_file.write(encrypted)\n",
        "   print(\"A file titled 'encrypted_audio_file.wav' is generated which is the encrypted audio to be communicated\")\n",
        "\n",
        "\n",
        "   #decryption\n",
        "   with open('EN.wav' , 'rb') as enc_file:\n",
        "     encrypted = enc_file.read()\n",
        "\n",
        "   decrypted = fernet.decrypt(encrypted)  \n",
        "\n",
        "   with open('DE.wav', 'wb') as decrypted_file:\n",
        "     decrypted_file.write(decrypted)\n",
        "\n",
        "   print(\"A file titled 'DE.wav' is generated which is the decrypted audio to be communicated\")\n",
        "\n",
        "   #plot decrypted audio\n",
        "   fs, data = wavfile.read('/content/DE.wav')\n",
        "   plt.plot(data)            # fs = sampling frequency = 44.1kHz\n",
        "   plt.title(\"decrypted audio\")"
      ],
      "metadata": {
        "id": "K_FgIz3hcAfm"
      },
      "execution_count": null,
      "outputs": []
    },
    {
      "cell_type": "code",
      "source": [
        "# Triple DES\n",
        "def DES3_func():\n",
        "\n",
        "  \"\"\"## Taking input\"\"\"\n",
        "\n",
        "  path='/content/drive/MyDrive/data_set/RAVDESS_song/Actor_01/03-02-01-01-01-01-01.wav'\n",
        "  fs, data = wavfile.read(path)\n",
        "  plt.plot(data)            # fs = sampling frequency = 44.1kHz\n",
        "  plt.title(\"Original Audio Plot\")\n",
        "\n",
        "  with open(path, 'rb') as fd:\n",
        "      contents = fd.read()\n",
        "\n",
        "\n",
        "  \"\"\"## Playing that sound\"\"\"\n",
        "\n",
        "  # Original Sound\n",
        "  #samples, sample_rate = librosa.load(path)\n",
        "  #ipd.Audio(samples, rate=sample_rate)\n",
        "\n",
        "  \"\"\"## Getting ready with DES\"\"\"\n",
        "\n",
        "  \n",
        "  while True:\n",
        "    try:\n",
        "      Key = DES3.adjust_key_parity(get_random_bytes(24))\n",
        "      print(\"i\")\n",
        "      #Key = DES3.adjust_Key_parity(get_random_bytes(24))\n",
        "      break\n",
        "    except ValueError:\n",
        "      pass\n",
        "\n",
        "  def encrypt(msg):\n",
        "    cipher =DES3.new(Key,DES3.MODE_EAX)\n",
        "    nonce=cipher.nonce\n",
        "    ciphertext=cipher.encrypt(msg)\n",
        "    return nonce,ciphertext\n",
        "\n",
        "  def decrypt(nonce,ciphertext):\n",
        "   cipher=DES3.new(Key,DES3.MODE_EAX,nonce=nonce)\n",
        "   plaintext=cipher.decrypt(ciphertext)\n",
        "   return plaintext\n",
        "\n",
        "\n",
        "  nonce,ciphertext = encrypt(contents)\n",
        "  with open('/content/EN.wav', 'wb') as fd:\n",
        "      fd.write(ciphertext)\n",
        "  print(\"A file titled 'EN.wav' is generated which is the encrypted audio to be communicated\")\n",
        "\n",
        "  plaintext = decrypt(nonce,ciphertext)\n",
        "  with open('/content/DE.wav', 'wb') as fd:\n",
        "      fd.write(plaintext)\n",
        "  print(\"A file titled 'DE.wav' is generated which is the decrypted audio to be communicated\")\n",
        "\n",
        "  samples, sample_rate = librosa.load('/content/DE.wav')\n",
        "  ipd.Audio(samples, rate=sample_rate)"
      ],
      "metadata": {
        "id": "U2U5mP5aTthi"
      },
      "execution_count": null,
      "outputs": []
    },
    {
      "cell_type": "code",
      "source": [
        "def RSA_func():\n",
        "\n",
        "  start = time.time()\n",
        "\n",
        "  #Encryption\n",
        "\n",
        "  fs, data = scipy.io.wavfile.read('/content/audio file.wav')\n",
        "  print(data)\n",
        "  print(fs)\n",
        "  print(type(data))\n",
        "  dataarray = data\n",
        "  print(type(dataarray))\n",
        "  a, b = dataarray.shape\n",
        "  tup = (a, b)\n",
        "  data = data.astype(numpy.int16)\n",
        "  #data = numpy.asarray(data, dtype=numpy.int16)\n",
        "  #print(data.flags)\n",
        "  data.setflags(write=1)\n",
        "  #print(data.flags)\n",
        "  print((a,b))\n",
        "\n",
        "  Time= numpy.linspace(0, len(data)/fs, num=len(data))\n",
        "  plt.figure(1)\n",
        "  plt.title('Signal Wave')\n",
        "  plt.plot(Time, data) \n",
        "  plt.show()\n",
        "  for i in range(0, tup[0]):\n",
        "    for j in range(0, tup[1]):\n",
        "      x = data[i][j] \n",
        "      x = ((pow(x,3)) % 25777)\n",
        "      data[i][j] = x\n",
        "\n",
        "  print(data)\n",
        "  data = data.astype(numpy.int16)\n",
        "  scipy.io.wavfile.write('EN.wav', fs, data)\n",
        "\n",
        "  Time= numpy.linspace(0, len(data)/fs, num=len(data))\n",
        "  plt.figure(2)\n",
        "  plt.title('Encrypted Signal Wave')\n",
        "  plt.plot(Time, data) \n",
        "  plt.show()\n",
        "\n",
        "  end = time.time()\n",
        "  ElspTime = (end-start)\n",
        "  print('\\n Total time taken from your life: ', +ElspTime, 'sec')\n",
        "\n",
        "\n",
        "  start = time.time()\n",
        "\n",
        "  #Decryption\n",
        "\n",
        "  fs, data = scipy.io.wavfile.read('/content/EN.wav')\n",
        "  print(data)\n",
        "  print(fs)\n",
        "  print(type(data))\n",
        "  dataarray = data\n",
        "  print(type(dataarray))\n",
        "  a1, b1 = dataarray.shape\n",
        "  tup1 = (a1, b1)\n",
        "  data = data.astype(numpy.int16)\n",
        "  #print(data.flags)\n",
        "  data.setflags(write=1)\n",
        "  #print(data.flags)\n",
        "  print((a1,b1))\n",
        "  numpy.savetxt('txtaudio.txt', data)\n",
        "  data= data.tolist()\n",
        "\n",
        "  for i1 in tqdm(range(len(data))):\n",
        "    for j1 in (range(len(data[i1]))):\n",
        "      x1 = data[i1][j1] \n",
        "      x1 = (pow(x1, 16971)%25777)\n",
        "      data[i1][j1] = x1\n",
        "\n",
        "  data = numpy.array(data)\n",
        "  data = data.astype(numpy.uint8)\n",
        "  print(data)\n",
        "  scipy.io.wavfile.write('DE.wav', fs, data)\n",
        "\n",
        "  end = time.time()\n",
        "  ElspTime = (end-start)\n",
        "  print('\\n Total time taken from your life: ', +ElspTime, 'sec')"
      ],
      "metadata": {
        "id": "co25JZ86Wpfr"
      },
      "execution_count": null,
      "outputs": []
    },
    {
      "cell_type": "code",
      "source": [
        "def ECC_func():\n",
        "  ecc_key= str(seccure.passphrase_to_pubkey(b'my private key'))\n",
        "  print(\"public Key is \", ecc_key)\n",
        "  \n",
        "\n",
        "\n",
        "  #Encryption\n",
        "\n",
        "  #with open('/content/audio file.wav', 'rb') as fd:\n",
        "  #contents = fd.read()\n",
        "\n",
        "  encrypted_audio = seccure.encrypt_file('/content/drive/MyDrive/data_set/RAVDESS_song/Actor_01/03-02-01-01-01-01-01.wav',  '/content/EN.wav', ecc_key)\n",
        "  print(\"A file titled 'EN.wav' is generated which is the encrypted audio to be communicated\")\n",
        "\n",
        "\n",
        "\n",
        "  #Decryption\n",
        "  #with open('EN.wav', 'rb') as fd:\n",
        "  #contents = fd.read()\n",
        "\n",
        "  decrypted_audio = seccure.decrypt_file('/content/EN.wav',  '/content/DE.wav', b'my private key')\n",
        "  print(\"A file titled 'DE.wav' is generated which is the decrypted audio to be communicated\")\n",
        "\n",
        "  #plot decrypted audio\n",
        "  fs, data = wavfile.read('/content/DE.wav')\n",
        "  plt.plot(data)            # fs = sampling frequency = 44.1kHz\n",
        "  plt.title(\"decrypted audio\")\n",
        "\n",
        "  "
      ],
      "metadata": {
        "id": "JKSOUkwCq33Z"
      },
      "execution_count": null,
      "outputs": []
    },
    {
      "cell_type": "code",
      "source": [
        "from Crypto.Cipher import AES\n",
        "from Crypto.Util.Padding import pad\n",
        "from Crypto.Random import get_random_bytes\n",
        "from Crypto.Cipher import PKCS1_OAEP\n",
        "from Crypto.PublicKey import RSA\n",
        "\n",
        "from scipy.io import wavfile\n",
        "import numpy as np\n",
        "import matplotlib.pyplot as plt\n",
        "import random\n",
        "import string\n",
        "import IPython.display as ipd\n",
        "import librosa\n",
        "import librosa.display\n",
        "\n",
        "\n",
        "def RSA_AES_func():\n",
        "  path='/content/drive/MyDrive/data_set/RAVDESS_song/Actor_01/03-02-01-01-01-01-01.wav'\n",
        "  fs, data = wavfile.read(path)\n",
        "  plt.plot(data)            # fs = sampling frequency = 44.1kHz\n",
        "  plt.title(\"Original Audio Plot\")\n",
        "\n",
        "  # Original Sound\n",
        "  samples, sample_rate = librosa.load(path)\n",
        "  ipd.Audio(samples, rate=sample_rate)\n",
        "\n",
        "  with open(path, 'rb') as fd:\n",
        "      contents = fd.read()\n",
        "\n",
        "  #create random aes symmetric key\n",
        "  AES_key = get_random_bytes(16)   #16 bit = 128 bit encryption\n",
        "\n",
        "  with open('/content/drive/MyDrive/keys/pubkey.pem','rb') as f:\n",
        "    pubkey = f.read()\n",
        "\n",
        "  RSA_key = RSA.importKey(pubkey)\n",
        "  RSA_cipher = PKCS1_OAEP.new(RSA_key)\n",
        "  e_AESkey=RSA_cipher.encrypt(AES_key)\n",
        "\n",
        "  data=contents\n",
        "\n",
        "  AEScipher=AES.new(AES_key,AES.MODE_EAX)\n",
        "\n",
        "  e_data,tag = AEScipher.encrypt_and_digest(data)\n",
        "\n",
        "  with open('EN.wav', 'wb') as fd:\n",
        "      fd.write(e_data)\n",
        "\n",
        "  print(\"A file titled 'EN.wav' is generated which is the encrypted audio to be communicated\")\n",
        "\n",
        "  #write both encrypted AES key and encrypted file to one bundled file \n",
        "  with open('bundle.enc','wb') as f:\n",
        "    f.write(e_AESkey) #256 bytes\n",
        "    f.write(AEScipher.nonce) #16 bytes\n",
        "    f.write(tag) #16 bytes\n",
        "    f.write(e_data)\n",
        "\n",
        "  \"\"\"# Decryption \"\"\"\n",
        "\n",
        "  with open('bundle.enc','rb') as f:\n",
        "    e_AESkey=f.read(128)\n",
        "    nonce = f.read(16)\n",
        "    tag = f.read(16)\n",
        "    e_data = f.read()\n",
        "\n",
        "  with open('/content/drive/MyDrive/keys/privkey.pem') as f:\n",
        "    key=f.read()\n",
        "\n",
        "  len(e_AESkey)\n",
        "\n",
        "  len(key)\n",
        "\n",
        "  privkey=RSA.importKey(key)\n",
        "  RSA_cipher=PKCS1_OAEP.new(privkey)\n",
        "  AES_key=RSA_cipher.decrypt(e_AESkey)\n",
        "\n",
        "  try:\n",
        "    AEScipher=AES.new(AES_key,AES.MODE_EAX,nonce)\n",
        "    data = AEScipher.decrypt_and_verify(e_data,tag)\n",
        "  except:\n",
        "    print(\"Decryption or Authenticity failure\")\n",
        "\n",
        "  with open('DE.wav', 'wb') as fd:\n",
        "      fd.write(data)\n",
        "  print(\"A file titled 'encrypted_audio_file.wav' is generated which is the encrypted audio to be communicated\")\n"
      ],
      "metadata": {
        "id": "pOZqCV6U3jhG"
      },
      "execution_count": null,
      "outputs": []
    },
    {
      "cell_type": "code",
      "execution_count": null,
      "metadata": {
        "colab": {
          "base_uri": "https://localhost:8080/",
          "height": 501
        },
        "id": "RaFAUkrx2tQI",
        "outputId": "e9b9ad75-7fca-4848-d292-d26adba375be"
      },
      "outputs": [
        {
          "name": "stdout",
          "output_type": "stream",
          "text": [
            "Choose algorithm to use:\n",
            "            1 :AES\n",
            "            2 :DES\n",
            "            3 : Fernet\n",
            "            4 : DES3\n",
            "            5 : RSA\n",
            "            6 : ECC\n",
            "            7 : RSA with AES\n",
            "7\n"
          ]
        },
        {
          "output_type": "stream",
          "name": "stderr",
          "text": [
            "/usr/local/lib/python3.7/dist-packages/ipykernel_launcher.py:19: WavFileWarning: Chunk (non-data) not understood, skipping it.\n"
          ]
        },
        {
          "output_type": "stream",
          "name": "stdout",
          "text": [
            "A file titled 'EN.wav' is generated which is the encrypted audio to be communicated\n",
            "A file titled 'encrypted_audio_file.wav' is generated which is the encrypted audio to be communicated\n"
          ]
        },
        {
          "output_type": "display_data",
          "data": {
            "text/plain": [
              "<Figure size 432x288 with 1 Axes>"
            ],
            "image/png": "[encoded data removed]"
          },
          "metadata": {
            "needs_background": "light"
          }
        }
      ],
      "source": [
        "algorithm = int(input(\n",
        "                'Choose algorithm to use:\\n\\\n",
        "            1 : AES\\n\\\n",
        "            2 : DES\\n\\\n",
        "            3 : Fernet\\n\\\n",
        "            4 : DES3\\n\\\n",
        "            5 : RSA\\n\\\n",
        "            6 : ECC\\n\\\n",
        "            7 : RSA with AES\\n'))\n",
        "\n",
        "#AES\n",
        "if algorithm==1:\n",
        "\n",
        "  AES_func()\n",
        "\n",
        "\n",
        "#DES\n",
        "if algorithm==2:\n",
        "\n",
        "  DES_func()\n",
        "\n",
        "\n",
        "#FERNET\n",
        "if algorithm==3:\n",
        "\n",
        "  FERNET_func()\n",
        "\n",
        "\n",
        "#DES3\n",
        "if algorithm==4:\n",
        " \n",
        " DES3_func()\n",
        "\n",
        "\n",
        "#ECC\n",
        "if algorithm==5:\n",
        "\n",
        "  RSA_func()\n",
        "\n",
        "\n",
        "#ECC\n",
        "if algorithm==6:\n",
        "\n",
        "  ECC_func()\n",
        "\n",
        "\n",
        "#RSA with AES\n",
        "if algorithm==7:\n",
        "\n",
        " RSA_AES_func()\n"
      ]
    },
    {
      "cell_type": "code",
      "source": [
        "fs, data = wavfile.read('/content/DE.wav')\n",
        "plt.plot(data)            # fs = sampling frequency = 44.1kHz\n",
        "plt.title(\"decrypted audio Plot\")\n",
        "data_1 = np.asarray(data, dtype = np.int32)"
      ],
      "metadata": {
        "id": "XhtikP2LGrx_",
        "colab": {
          "base_uri": "https://localhost:8080/",
          "height": 318
        },
        "outputId": "17f98b5f-bc31-45af-f0d2-e242b413cf34"
      },
      "execution_count": null,
      "outputs": [
        {
          "output_type": "stream",
          "name": "stderr",
          "text": [
            "/usr/local/lib/python3.7/dist-packages/ipykernel_launcher.py:1: WavFileWarning: Chunk (non-data) not understood, skipping it.\n",
            "  \"\"\"Entry point for launching an IPython kernel.\n"
          ]
        },
        {
          "output_type": "display_data",
          "data": {
            "text/plain": [
              "<Figure size 432x288 with 1 Axes>"
            ],
            "image/png": "[encoded data removed]"
          },
          "metadata": {
            "needs_background": "light"
          }
        }
      ]
    }
  ]
}